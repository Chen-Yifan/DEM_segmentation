{
 "cells": [
  {
   "cell_type": "code",
   "execution_count": 2,
   "metadata": {},
   "outputs": [
    {
     "name": "stderr",
     "output_type": "stream",
     "text": [
      "Using TensorFlow backend.\n"
     ]
    }
   ],
   "source": [
    "from custom_generator import *\n",
    "from keras.callbacks import ModelCheckpoint\n",
    "from keras.callbacks import CSVLogger\n",
    "from keras.callbacks import EarlyStopping\n",
    "import os\n",
    "import tensorflow as tf\n",
    "import keras.backend as K\n",
    "import model\n",
    "from utils import *\n",
    "import numpy as np\n",
    "from keras.layers import Input, Conv2D, MaxPooling2D, UpSampling2D, Conv2D, Reshape\n",
    "from keras.layers.core import Dropout, Activation\n",
    "from keras.models import Model,load_model\n",
    "from keras.optimizers import Adadelta, Adam\n",
    "import matplotlib.pyplot as plt\n",
    "\n",
    "import keras.losses\n",
    "import keras.metrics\n"
   ]
  },
  {
   "cell_type": "code",
   "execution_count": null,
   "metadata": {},
   "outputs": [
    {
     "name": "stdout",
     "output_type": "stream",
     "text": [
      "WARNING:tensorflow:From /opt/apps/anaconda3/envs/powerai_env/lib/python3.6/site-packages/tensorflow/python/framework/op_def_library.py:263: colocate_with (from tensorflow.python.framework.ops) is deprecated and will be removed in a future version.\n",
      "Instructions for updating:\n",
      "Colocations handled automatically by placer.\n",
      "loss:\n",
      "(None, None, None)\n",
      "(None, 65536, 2)\n",
      "(None, 65536, 2)\n",
      "Tensor(\"metrics/Mean_IOU/Shape:0\", shape=(3,), dtype=int32)\n",
      "Mean_IOU:\n",
      "(?, 65536, 2)\n",
      "(?, 65536, 2)\n",
      "WARNING:tensorflow:From /opt/apps/anaconda3/envs/powerai_env/lib/python3.6/site-packages/tensorflow/python/ops/math_ops.py:3066: to_int32 (from tensorflow.python.ops.math_ops) is deprecated and will be removed in a future version.\n",
      "Instructions for updating:\n",
      "Use tf.cast instead.\n",
      "WARNING:tensorflow:From /opt/apps/anaconda3/envs/powerai_env/lib/python3.6/site-packages/tensorflow/python/ops/math_grad.py:102: div (from tensorflow.python.ops.math_ops) is deprecated and will be removed in a future version.\n",
      "Instructions for updating:\n",
      "Deprecated in favor of operator or tf.math.divide.\n"
     ]
    }
   ],
   "source": [
    "keras.losses.pixel_wise_loss = pixel_wise_loss\n",
    "keras.metrics.Mean_IOU = Mean_IOU\n",
    "\n",
    "test_frame_path = '/home/yifanc3/dataset/npy/no_shuffle/test_frames'\n",
    "test_mask_path = '/home/yifanc3/dataset/npy/no_shuffle/test_masks'\n",
    "\n",
    "Model_dir = '/home/yifanc3/models/UnetAdam_noshuffle'\n",
    "# load model?\n",
    "m =load_model(os.path.join(Model_dir, 'UnetAdam_noshuffle.h5'))\n",
    "\n",
    "X,Y = test_gen(test_frame_path, test_mask_path)\n",
    "\n",
    "score = m.evaluate(X, Y, verbose=0)\n",
    "print(\"%s: %.2f%%\" % (m.metrics_names[1], score[1]*100))\n",
    "# print(\"%s: %.2f%%\" % (m.metrics_names[2], score[2]*100))\n",
    "# print(\"%s: %.2f%%\" % (m.metrics_names[3], score[3]*100))\n",
    "# print(\"%s: %.2f%%\" % (m.metrics_names[4], score[4]*100))\n",
    "# print(\"%s: %.2f%%\" % (m.metrics_names[5], score[5]*100))\n",
    "# print(\"%s: %.2f%%\" % (m.metrics_names[6], score[6]*100))\n",
    "\n",
    "results = m.predict(X)\n",
    "new_r = np.argmax(results,axis=-1)\n",
    "\n",
    "#save image\n",
    "# saveMask_256(\"/home/yifanc3/results/v2_orig_mask\",test_mask_path,Y)\n",
    "saveResult(\"/home/yifanc3/results/UnetAdam_noshuffle\",test_mask_path,results)"
   ]
  },
  {
   "cell_type": "code",
   "execution_count": null,
   "metadata": {},
   "outputs": [],
   "source": []
  },
  {
   "cell_type": "code",
   "execution_count": null,
   "metadata": {},
   "outputs": [],
   "source": []
  }
 ],
 "metadata": {
  "kernelspec": {
   "display_name": "Python 3",
   "language": "python",
   "name": "python3"
  },
  "language_info": {
   "codemirror_mode": {
    "name": "ipython",
    "version": 3
   },
   "file_extension": ".py",
   "mimetype": "text/x-python",
   "name": "python",
   "nbconvert_exporter": "python",
   "pygments_lexer": "ipython3",
   "version": "3.6.8"
  }
 },
 "nbformat": 4,
 "nbformat_minor": 2
}
