{
 "cells": [
  {
   "cell_type": "code",
   "execution_count": 1,
   "metadata": {},
   "outputs": [
    {
     "name": "stdout",
     "output_type": "stream",
     "text": [
      "Populating the interactive namespace from numpy and matplotlib\n"
     ]
    }
   ],
   "source": [
    "import numpy as np\n",
    "import os\n",
    "%pylab inline\n",
    "import matplotlib.pyplot as plt\n",
    "import matplotlib.image as mpimg\n",
    "from PIL import Image\n"
   ]
  },
  {
   "cell_type": "code",
   "execution_count": null,
   "metadata": {},
   "outputs": [],
   "source": []
  },
  {
   "cell_type": "code",
   "execution_count": null,
   "metadata": {},
   "outputs": [],
   "source": []
  },
  {
   "cell_type": "code",
   "execution_count": 31,
   "metadata": {},
   "outputs": [],
   "source": [
    "dataset_path = '/home/shared/dem/building_data/128_0over'\n",
    "in_path = dataset_path + '/DEM_retile'\n",
    "out_path = dataset_path + '/labels_retile'"
   ]
  },
  {
   "cell_type": "code",
   "execution_count": 32,
   "metadata": {},
   "outputs": [
    {
     "name": "stdout",
     "output_type": "stream",
     "text": [
      "6724\n",
      "DEM_clip_01_01.tif\n"
     ]
    }
   ],
   "source": [
    "frame_files = os.listdir(in_path)\n",
    "print(len(frame_files))\n",
    "print(frame_files[0])\n"
   ]
  },
  {
   "cell_type": "code",
   "execution_count": 33,
   "metadata": {},
   "outputs": [
    {
     "name": "stdout",
     "output_type": "stream",
     "text": [
      "6724\n",
      "label_clip_01_01.tif\n"
     ]
    }
   ],
   "source": [
    "mask_files = os.listdir(out_path)\n",
    "print(len(mask_files))\n",
    "print(mask_files[0])\n"
   ]
  },
  {
   "cell_type": "code",
   "execution_count": 14,
   "metadata": {},
   "outputs": [],
   "source": [
    "def load_data(frame_path, mask_path, i=0):\n",
    "    frame_files = os.listdir(in_path)\n",
    "    print(len(frame_files))\n",
    "    mask_files = os.listdir(out_path)\n",
    "    print(len(mask_files))\n",
    "    \n",
    "#     frame = Image.open(argv[:-9]+'RGB.tif')\n",
    "    frame = np.load(frame_path+'/'+frame_files[i])\n",
    "    mask = np.load(mask_path+'/'+frame_files[i])\n",
    "    return frame, mask"
   ]
  },
  {
   "cell_type": "code",
   "execution_count": 45,
   "metadata": {},
   "outputs": [],
   "source": [
    "def load_data_tif(frame_path, mask_path, i=0):\n",
    "    frame_files = os.listdir(in_path)\n",
    "    print(len(frame_files))\n",
    "    mask_files = os.listdir(out_path)\n",
    "    print(len(mask_files))\n",
    "    \n",
    "    frame = np.array(Image.open(frame_path+'/'+frame_files[i]))\n",
    "    mask = np.array(Image.open(mask_path+'/'+mask_files[i]))\n",
    "    return frame, mask"
   ]
  },
  {
   "cell_type": "code",
   "execution_count": 68,
   "metadata": {},
   "outputs": [
    {
     "name": "stdout",
     "output_type": "stream",
     "text": [
      "6724\n",
      "6724\n"
     ]
    },
    {
     "data": {
      "image/png": "[encoded data removed]",
      "text/plain": [
       "<Figure size 432x288 with 1 Axes>"
      ]
     },
     "metadata": {
      "needs_background": "light"
     },
     "output_type": "display_data"
    }
   ],
   "source": [
    "frame,mask = load_data_tif(in_path, out_path,369)\n",
    "imgplot = plt.imshow(mask)\n",
    "plt.show()"
   ]
  },
  {
   "cell_type": "code",
   "execution_count": 69,
   "metadata": {},
   "outputs": [
    {
     "data": {
      "image/png": "[encoded data removed]",
      "text/plain": [
       "<Figure size 432x288 with 1 Axes>"
      ]
     },
     "metadata": {
      "needs_background": "light"
     },
     "output_type": "display_data"
    },
    {
     "name": "stdout",
     "output_type": "stream",
     "text": [
      "874.26 0.0\n"
     ]
    }
   ],
   "source": [
    "frame = np.where(frame<0.0,0,frame)\n",
    "\n",
    "imgplot = plt.imshow(frame)\n",
    "plt.show()\n",
    "print(np.max(frame),np.min(frame))"
   ]
  },
  {
   "cell_type": "code",
   "execution_count": null,
   "metadata": {},
   "outputs": [],
   "source": []
  },
  {
   "cell_type": "code",
   "execution_count": null,
   "metadata": {},
   "outputs": [],
   "source": []
  }
 ],
 "metadata": {
  "kernelspec": {
   "display_name": "Python 3",
   "language": "python",
   "name": "python3"
  },
  "language_info": {
   "codemirror_mode": {
    "name": "ipython",
    "version": 3
   },
   "file_extension": ".py",
   "mimetype": "text/x-python",
   "name": "python",
   "nbconvert_exporter": "python",
   "pygments_lexer": "ipython3",
   "version": "3.6.8"
  }
 },
 "nbformat": 4,
 "nbformat_minor": 2
}
