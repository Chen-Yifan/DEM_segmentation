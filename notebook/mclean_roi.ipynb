{
 "cells": [
  {
   "cell_type": "code",
   "execution_count": 1,
   "metadata": {},
   "outputs": [],
   "source": [
    "from libtiff import TIFF\n",
    "\n",
    "import os\n",
    "import random\n",
    "import re\n",
    "from PIL import Image\n",
    "import numpy as np\n",
    "from shutil import copyfile\n",
    "import matplotlib.pyplot as plt\n",
    "import matplotlib.image as mpimg\n",
    "import numpy as np"
   ]
  },
  {
   "cell_type": "code",
   "execution_count": 2,
   "metadata": {},
   "outputs": [
    {
     "data": {
      "text/plain": [
       "['10m_buffer_3443.tif',\n",
       " 'annotated_mask.tif',\n",
       " 'cl1.tif',\n",
       " 'cl2.tif',\n",
       " 'cl3.tif',\n",
       " 'mclean_roi_aspect.tif',\n",
       " 'mclean_roi_mb.tif',\n",
       " 'mclean_roi_merge.tif',\n",
       " 'mclean_roi_rough.tif',\n",
       " 'mclean_roi_slope.tif',\n",
       " 'mclean_roi.tif',\n",
       " 'mclean_roi_tpi.tif',\n",
       " 'mclean_roi_tri.tif',\n",
       " '5m_grass_waterway_3443.geojson',\n",
       " 'README.txt',\n",
       " 'gdal.sb',\n",
       " 'gdal_mask.8995.hal02.out',\n",
       " 'gdal_frame.8996.hal05.out',\n",
       " 'gdal_anno.8997.hal02.out',\n",
       " 'gdal_anno.9166.hal02.out',\n",
       " 'gdal.9166.hal02.err']"
      ]
     },
     "execution_count": 2,
     "metadata": {},
     "output_type": "execute_result"
    }
   ],
   "source": [
    "curpath = '/home/yifanc3/dataset/data/origin'\n",
    "os.listdir(curpath)\n"
   ]
  },
  {
   "cell_type": "code",
   "execution_count": 22,
   "metadata": {},
   "outputs": [],
   "source": [
    "tif = TIFF.open(curpath + '/mclean_roi_tri.tif')\n",
    "img = tif.read_image()"
   ]
  },
  {
   "cell_type": "code",
   "execution_count": 69,
   "metadata": {},
   "outputs": [],
   "source": [
    "# plt.title('mclean_roi_mb')\n",
    "# origplot = plt.imshow(img[:,:],cmap='gray')"
   ]
  },
  {
   "cell_type": "code",
   "execution_count": null,
   "metadata": {},
   "outputs": [],
   "source": []
  },
  {
   "cell_type": "code",
   "execution_count": 16,
   "metadata": {},
   "outputs": [],
   "source": [
    "import matplotlib.pyplot as plt\n",
    "import numpy as np\n",
    "from matplotlib import colors\n",
    "from matplotlib.ticker import PercentFormatter"
   ]
  },
  {
   "cell_type": "code",
   "execution_count": 23,
   "metadata": {},
   "outputs": [
    {
     "name": "stdout",
     "output_type": "stream",
     "text": [
      "0.0035858154 304.16858\n"
     ]
    }
   ],
   "source": [
    "pos = img[np.where(img>=0)]\n",
    "print(np.min(pos),np.max(pos))"
   ]
  },
  {
   "cell_type": "code",
   "execution_count": null,
   "metadata": {},
   "outputs": [],
   "source": []
  },
  {
   "cell_type": "code",
   "execution_count": 24,
   "metadata": {},
   "outputs": [
    {
     "name": "stdout",
     "output_type": "stream",
     "text": [
      "-9999.0 304.16858\n"
     ]
    }
   ],
   "source": [
    "print(np.min(img),np.max(img))"
   ]
  },
  {
   "cell_type": "code",
   "execution_count": 72,
   "metadata": {},
   "outputs": [
    {
     "data": {
      "text/plain": [
       "2116388"
      ]
     },
     "execution_count": 72,
     "metadata": {},
     "output_type": "execute_result"
    }
   ],
   "source": [
    "np.count_nonzero(img == 0)"
   ]
  },
  {
   "cell_type": "code",
   "execution_count": 73,
   "metadata": {},
   "outputs": [
    {
     "data": {
      "text/plain": [
       "0"
      ]
     },
     "execution_count": 73,
     "metadata": {},
     "output_type": "execute_result"
    }
   ],
   "source": [
    "np.count_nonzero(img == -9999)"
   ]
  },
  {
   "cell_type": "code",
   "execution_count": 12,
   "metadata": {},
   "outputs": [
    {
     "data": {
      "text/plain": [
       "2063229"
      ]
     },
     "execution_count": 12,
     "metadata": {},
     "output_type": "execute_result"
    }
   ],
   "source": [
    "np.count_nonzero(img <0)"
   ]
  },
  {
   "cell_type": "code",
   "execution_count": 20,
   "metadata": {},
   "outputs": [],
   "source": [
    "uniq = np.unique(img)\n"
   ]
  },
  {
   "cell_type": "code",
   "execution_count": 21,
   "metadata": {},
   "outputs": [
    {
     "name": "stdout",
     "output_type": "stream",
     "text": [
      "[-9.9990000e+03 -2.3157953e+02 -2.1805853e+02 ... -1.8310547e-04\n",
      " -1.2207031e-04 -6.1035156e-05]\n"
     ]
    }
   ],
   "source": [
    "print(uniq[np.where(uniq<0)])"
   ]
  },
  {
   "cell_type": "code",
   "execution_count": 67,
   "metadata": {},
   "outputs": [],
   "source": [
    "img = np.where(img==-9999, 0.0, img)"
   ]
  },
  {
   "cell_type": "code",
   "execution_count": 59,
   "metadata": {},
   "outputs": [
    {
     "data": {
      "text/plain": [
       "2073893"
      ]
     },
     "execution_count": 59,
     "metadata": {},
     "output_type": "execute_result"
    }
   ],
   "source": [
    "np.count_nonzero(img == 0)"
   ]
  },
  {
   "cell_type": "code",
   "execution_count": 60,
   "metadata": {},
   "outputs": [
    {
     "name": "stdout",
     "output_type": "stream",
     "text": [
      "0.0 88.1184\n"
     ]
    }
   ],
   "source": [
    "print(np.min(img),np.max(img))"
   ]
  },
  {
   "cell_type": "code",
   "execution_count": 13,
   "metadata": {},
   "outputs": [
    {
     "data": {
      "text/plain": [
       "([array([  0.,   0.,   0., 106.,  94.,   0.,   0.,   0.,   0.,   0.]),\n",
       "  array([  0.,   0.,   0., 111.,  89.,   0.,   0.,   0.,   0.,   0.]),\n",
       "  array([  0.,   0.,   0., 114.,  86.,   0.,   0.,   0.,   0.,   0.]),\n",
       "  array([  0.,   0.,   0., 117.,  83.,   0.,   0.,   0.,   0.,   0.]),\n",
       "  array([  0.,   0.,   0., 117.,  83.,   0.,   0.,   0.,   0.,   0.]),\n",
       "  array([  0.,   0.,   1., 117.,  82.,   0.,   0.,   0.,   0.,   0.]),\n",
       "  array([  0.,   0.,   3., 117.,  80.,   0.,   0.,   0.,   0.,   0.]),\n",
       "  array([  0.,   0.,   4., 117.,  79.,   0.,   0.,   0.,   0.,   0.]),\n",
       "  array([  0.,   0.,   6., 123.,  71.,   0.,   0.,   0.,   0.,   0.]),\n",
       "  array([  0.,   0.,   8., 130.,  62.,   0.,   0.,   0.,   0.,   0.]),\n",
       "  array([  0.,   0.,  10., 132.,  58.,   0.,   0.,   0.,   0.,   0.]),\n",
       "  array([  0.,   0.,  11., 136.,  53.,   0.,   0.,   0.,   0.,   0.]),\n",
       "  array([  0.,   0.,  14., 139.,  47.,   0.,   0.,   0.,   0.,   0.]),\n",
       "  array([  0.,   0.,  15., 139.,  46.,   0.,   0.,   0.,   0.,   0.]),\n",
       "  array([  0.,   0.,  16., 144.,  40.,   0.,   0.,   0.,   0.,   0.]),\n",
       "  array([  0.,   0.,  17., 150.,  33.,   0.,   0.,   0.,   0.,   0.]),\n",
       "  array([  0.,   0.,  17., 155.,  28.,   0.,   0.,   0.,   0.,   0.]),\n",
       "  array([  0.,   0.,  19., 159.,  22.,   0.,   0.,   0.,   0.,   0.]),\n",
       "  array([  0.,   0.,  21., 161.,  18.,   0.,   0.,   0.,   0.,   0.]),\n",
       "  array([  0.,   0.,  21., 167.,  12.,   0.,   0.,   0.,   0.,   0.]),\n",
       "  array([  0.,   0.,  27., 169.,   4.,   0.,   0.,   0.,   0.,   0.]),\n",
       "  array([  0.,   0.,  32., 168.,   0.,   0.,   0.,   0.,   0.,   0.]),\n",
       "  array([  0.,   0.,  49., 151.,   0.,   0.,   0.,   0.,   0.,   0.]),\n",
       "  array([  0.,   0.,  61., 139.,   0.,   0.,   0.,   0.,   0.,   0.]),\n",
       "  array([  0.,   0.,  62., 137.,   1.,   0.,   0.,   0.,   0.,   0.]),\n",
       "  array([  0.,   0.,  62., 138.,   0.,   0.,   0.,   0.,   0.,   0.]),\n",
       "  array([  0.,   0.,  62., 138.,   0.,   0.,   0.,   0.,   0.,   0.]),\n",
       "  array([  0.,   0.,  62., 138.,   0.,   0.,   0.,   0.,   0.,   0.]),\n",
       "  array([  0.,   0.,  62., 138.,   0.,   0.,   0.,   0.,   0.,   0.]),\n",
       "  array([  0.,   0.,  62., 138.,   0.,   0.,   0.,   0.,   0.,   0.]),\n",
       "  array([  0.,   0.,  64., 136.,   0.,   0.,   0.,   0.,   0.,   0.]),\n",
       "  array([  0.,   0.,  65., 135.,   0.,   0.,   0.,   0.,   0.,   0.]),\n",
       "  array([  0.,   0.,  66., 134.,   0.,   0.,   0.,   0.,   0.,   0.]),\n",
       "  array([  0.,   0.,  68., 132.,   0.,   0.,   0.,   0.,   0.,   0.]),\n",
       "  array([  0.,   0.,  69., 131.,   0.,   0.,   0.,   0.,   0.,   0.]),\n",
       "  array([  0.,   0.,  73., 127.,   0.,   0.,   0.,   0.,   0.,   0.]),\n",
       "  array([  0.,   0.,  79., 121.,   0.,   0.,   0.,   0.,   0.,   0.]),\n",
       "  array([  0.,   0.,  83., 117.,   0.,   0.,   0.,   0.,   0.,   0.]),\n",
       "  array([  0.,   0.,  86., 114.,   0.,   0.,   0.,   0.,   0.,   0.]),\n",
       "  array([  0.,   0.,  92., 108.,   0.,   0.,   0.,   0.,   0.,   0.]),\n",
       "  array([  0.,   0.,  96., 104.,   0.,   0.,   0.,   0.,   0.,   0.]),\n",
       "  array([  0.,   0., 101.,  99.,   0.,   0.,   0.,   0.,   0.,   0.]),\n",
       "  array([  0.,   0., 113.,  87.,   0.,   0.,   0.,   0.,   0.,   0.]),\n",
       "  array([  0.,   0., 132.,  68.,   0.,   0.,   0.,   0.,   0.,   0.]),\n",
       "  array([  0.,   0., 137.,  63.,   0.,   0.,   0.,   0.,   0.,   0.]),\n",
       "  array([  0.,   0., 150.,  50.,   0.,   0.,   0.,   0.,   0.,   0.]),\n",
       "  array([  0.,   0., 155.,  45.,   0.,   0.,   0.,   0.,   0.,   0.]),\n",
       "  array([  0.,   0., 165.,  35.,   0.,   0.,   0.,   0.,   0.,   0.]),\n",
       "  array([  0.,   0., 167.,  33.,   0.,   0.,   0.,   0.,   0.,   0.]),\n",
       "  array([  0.,   0., 169.,  31.,   0.,   0.,   0.,   0.,   0.,   0.]),\n",
       "  array([  0.,   0., 172.,  28.,   0.,   0.,   0.,   0.,   0.,   0.]),\n",
       "  array([  0.,   0., 175.,  25.,   0.,   0.,   0.,   0.,   0.,   0.]),\n",
       "  array([  0.,   0., 180.,  20.,   0.,   0.,   0.,   0.,   0.,   0.]),\n",
       "  array([  0.,   0., 179.,  21.,   0.,   0.,   0.,   0.,   0.,   0.]),\n",
       "  array([  0.,   0., 180.,  20.,   0.,   0.,   0.,   0.,   0.,   0.]),\n",
       "  array([  0.,   0., 180.,  20.,   0.,   0.,   0.,   0.,   0.,   0.]),\n",
       "  array([  0.,   0., 180.,  20.,   0.,   0.,   0.,   0.,   0.,   0.]),\n",
       "  array([  0.,   0., 178.,  22.,   0.,   0.,   0.,   0.,   0.,   0.]),\n",
       "  array([  0.,   0., 177.,  23.,   0.,   0.,   0.,   0.,   0.,   0.]),\n",
       "  array([  0.,   0., 176.,  24.,   0.,   0.,   0.,   0.,   0.,   0.]),\n",
       "  array([  0.,   0., 163.,  34.,   2.,   0.,   0.,   1.,   0.,   0.]),\n",
       "  array([  0.,   0., 160.,  39.,   0.,   0.,   0.,   1.,   0.,   0.]),\n",
       "  array([  0.,   0., 162.,  38.,   0.,   0.,   0.,   0.,   0.,   0.]),\n",
       "  array([  0.,   0., 163.,  37.,   0.,   0.,   0.,   0.,   0.,   0.]),\n",
       "  array([  0.,   0., 164.,  36.,   0.,   0.,   0.,   0.,   0.,   0.]),\n",
       "  array([  0.,   3., 163.,  33.,   1.,   0.,   0.,   0.,   0.,   0.]),\n",
       "  array([  0.,  11., 153.,  36.,   0.,   0.,   0.,   0.,   0.,   0.]),\n",
       "  array([  0.,  22., 144.,  33.,   1.,   0.,   0.,   0.,   0.,   0.]),\n",
       "  array([  0.,  27., 140.,  33.,   0.,   0.,   0.,   0.,   0.,   0.]),\n",
       "  array([  0.,  32., 135.,  32.,   0.,   0.,   0.,   0.,   0.,   1.]),\n",
       "  array([  0.,  49., 118.,  31.,   1.,   0.,   0.,   1.,   0.,   0.]),\n",
       "  array([  0.,  52., 114.,  32.,   2.,   0.,   0.,   0.,   0.,   0.]),\n",
       "  array([ 0., 72., 95., 31.,  1.,  0.,  1.,  0.,  0.,  0.]),\n",
       "  array([ 0., 85., 82., 29.,  4.,  0.,  0.,  0.,  0.,  0.]),\n",
       "  array([ 0., 88., 80., 24.,  6.,  2.,  0.,  0.,  0.,  0.]),\n",
       "  array([ 0., 83., 88., 22.,  6.,  1.,  0.,  0.,  0.,  0.]),\n",
       "  array([ 0., 88., 87., 22.,  3.,  0.,  0.,  0.,  0.,  0.]),\n",
       "  array([ 0., 95., 80., 17.,  7.,  1.,  0.,  0.,  0.,  0.]),\n",
       "  array([ 0., 97., 78., 21.,  4.,  0.,  0.,  0.,  0.,  0.]),\n",
       "  array([ 0., 98., 74., 25.,  3.,  0.,  0.,  0.,  0.,  0.]),\n",
       "  array([  0., 104.,  72.,  21.,   3.,   0.,   0.,   0.,   0.,   0.]),\n",
       "  array([  0., 109.,  66.,  21.,   4.,   0.,   0.,   0.,   0.,   0.]),\n",
       "  array([  0., 111.,  66.,  20.,   3.,   0.,   0.,   0.,   0.,   0.]),\n",
       "  array([  0., 115.,  63.,  20.,   2.,   0.,   0.,   0.,   0.,   0.]),\n",
       "  array([  0., 114.,  63.,  21.,   2.,   0.,   0.,   0.,   0.,   0.]),\n",
       "  array([  0., 117.,  63.,  19.,   1.,   0.,   0.,   0.,   0.,   0.]),\n",
       "  array([  0., 122.,  61.,  12.,   5.,   0.,   0.,   0.,   0.,   0.]),\n",
       "  array([  0., 122.,  61.,  11.,   6.,   0.,   0.,   0.,   0.,   0.]),\n",
       "  array([  0., 119.,  64.,  12.,   5.,   0.,   0.,   0.,   0.,   0.]),\n",
       "  array([  0., 114.,  75.,  11.,   0.,   0.,   0.,   0.,   0.,   0.]),\n",
       "  array([  0., 139.,  52.,   9.,   0.,   0.,   0.,   0.,   0.,   0.]),\n",
       "  array([  0., 136.,  60.,   4.,   0.,   0.,   0.,   0.,   0.,   0.]),\n",
       "  array([  0., 136.,  64.,   0.,   0.,   0.,   0.,   0.,   0.,   0.]),\n",
       "  array([  0., 143.,  57.,   0.,   0.,   0.,   0.,   0.,   0.,   0.]),\n",
       "  array([  0., 115.,  85.,   0.,   0.,   0.,   0.,   0.,   0.,   0.]),\n",
       "  array([  0.,  56., 144.,   0.,   0.,   0.,   0.,   0.,   0.,   0.]),\n",
       "  array([  0.,  18., 182.,   0.,   0.,   0.,   0.,   0.,   0.,   0.]),\n",
       "  array([  0.,   0., 200.,   0.,   0.,   0.,   0.,   0.,   0.,   0.]),\n",
       "  array([  0.,   0., 200.,   0.,   0.,   0.,   0.,   0.,   0.,   0.]),\n",
       "  array([  0.,   0., 200.,   0.,   0.,   0.,   0.,   0.,   0.,   0.]),\n",
       "  array([  0.,   2., 198.,   0.,   0.,   0.,   0.,   0.,   0.,   0.]),\n",
       "  array([  0.,  44., 156.,   0.,   0.,   0.,   0.,   0.,   0.,   0.]),\n",
       "  array([  0.,  59., 141.,   0.,   0.,   0.,   0.,   0.,   0.,   0.]),\n",
       "  array([  0.,  75., 125.,   0.,   0.,   0.,   0.,   0.,   0.,   0.]),\n",
       "  array([  0.,  91., 109.,   0.,   0.,   0.,   0.,   0.,   0.,   0.]),\n",
       "  array([  0., 123.,  77.,   0.,   0.,   0.,   0.,   0.,   0.,   0.]),\n",
       "  array([  0., 140.,  60.,   0.,   0.,   0.,   0.,   0.,   0.,   0.]),\n",
       "  array([  0., 145.,  55.,   0.,   0.,   0.,   0.,   0.,   0.,   0.]),\n",
       "  array([  0., 148.,  49.,   2.,   1.,   0.,   0.,   0.,   0.,   0.]),\n",
       "  array([  1., 152.,  47.,   0.,   0.,   0.,   0.,   0.,   0.,   0.]),\n",
       "  array([  0., 154.,  45.,   0.,   1.,   0.,   0.,   0.,   0.,   0.]),\n",
       "  array([  2., 145.,  52.,   0.,   0.,   0.,   1.,   0.,   0.,   0.]),\n",
       "  array([  3., 147.,  40.,   1.,   1.,   1.,   2.,   3.,   2.,   0.]),\n",
       "  array([  3., 148.,  39.,   1.,   0.,   0.,   1.,   2.,   4.,   2.]),\n",
       "  array([  5., 145.,  38.,   3.,   1.,   1.,   1.,   2.,   3.,   1.]),\n",
       "  array([  8., 143.,  40.,   1.,   1.,   3.,   1.,   2.,   1.,   0.]),\n",
       "  array([ 13., 140.,  38.,   2.,   0.,   0.,   3.,   2.,   1.,   1.]),\n",
       "  array([ 13., 144.,  36.,   1.,   1.,   1.,   1.,   2.,   1.,   0.]),\n",
       "  array([ 13., 147.,  39.,   0.,   1.,   0.,   0.,   0.,   0.,   0.]),\n",
       "  array([ 12., 151.,  34.,   2.,   1.,   0.,   0.,   0.,   0.,   0.]),\n",
       "  array([ 13., 154.,  32.,   0.,   1.,   0.,   0.,   0.,   0.,   0.]),\n",
       "  array([ 13., 157.,  29.,   0.,   0.,   1.,   0.,   0.,   0.,   0.]),\n",
       "  array([ 13., 159.,  28.,   0.,   0.,   0.,   0.,   0.,   0.,   0.]),\n",
       "  array([ 11., 165.,  24.,   0.,   0.,   0.,   0.,   0.,   0.,   0.]),\n",
       "  array([ 11., 165.,  24.,   0.,   0.,   0.,   0.,   0.,   0.,   0.]),\n",
       "  array([ 12., 164.,  23.,   0.,   0.,   0.,   1.,   0.,   0.,   0.]),\n",
       "  array([ 12., 167.,  20.,   0.,   0.,   1.,   0.,   0.,   0.,   0.]),\n",
       "  array([ 12., 169.,  19.,   0.,   0.,   0.,   0.,   0.,   0.,   0.]),\n",
       "  array([ 13., 166.,  20.,   1.,   0.,   0.,   0.,   0.,   0.,   0.]),\n",
       "  array([ 14., 169.,  17.,   0.,   0.,   0.,   0.,   0.,   0.,   0.]),\n",
       "  array([ 14., 170.,  16.,   0.,   0.,   0.,   0.,   0.,   0.,   0.]),\n",
       "  array([ 15., 170.,  15.,   0.,   0.,   0.,   0.,   0.,   0.,   0.]),\n",
       "  array([ 16., 170.,  14.,   0.,   0.,   0.,   0.,   0.,   0.,   0.]),\n",
       "  array([ 17., 170.,  13.,   0.,   0.,   0.,   0.,   0.,   0.,   0.]),\n",
       "  array([ 17., 173.,  10.,   0.,   0.,   0.,   0.,   0.,   0.,   0.]),\n",
       "  array([ 17., 175.,   8.,   0.,   0.,   0.,   0.,   0.,   0.,   0.]),\n",
       "  array([ 18., 172.,   8.,   1.,   0.,   0.,   0.,   1.,   0.,   0.]),\n",
       "  array([ 18., 177.,   5.,   0.,   0.,   0.,   0.,   0.,   0.,   0.]),\n",
       "  array([ 19., 178.,   3.,   0.,   0.,   0.,   0.,   0.,   0.,   0.]),\n",
       "  array([ 21., 170.,   9.,   0.,   0.,   0.,   0.,   0.,   0.,   0.]),\n",
       "  array([ 22., 165.,  13.,   0.,   0.,   0.,   0.,   0.,   0.,   0.]),\n",
       "  array([ 20., 160.,  20.,   0.,   0.,   0.,   0.,   0.,   0.,   0.]),\n",
       "  array([ 21., 149.,  25.,   2.,   3.,   0.,   0.,   0.,   0.,   0.]),\n",
       "  array([ 20., 146.,  29.,   3.,   0.,   2.,   0.,   0.,   0.,   0.]),\n",
       "  array([ 22., 137.,  39.,   1.,   1.,   0.,   0.,   0.,   0.,   0.]),\n",
       "  array([ 23., 125.,  52.,   0.,   0.,   0.,   0.,   0.,   0.,   0.]),\n",
       "  array([ 24., 107.,  67.,   1.,   1.,   0.,   0.,   0.,   0.,   0.]),\n",
       "  array([25., 99., 72.,  2.,  1.,  1.,  0.,  0.,  0.,  0.]),\n",
       "  array([28., 95., 73.,  2.,  0.,  2.,  0.,  0.,  0.,  0.]),\n",
       "  array([26., 96., 75.,  1.,  1.,  1.,  0.,  0.,  0.,  0.]),\n",
       "  array([ 22., 101.,  76.,   1.,   0.,   0.,   0.,   0.,   0.,   0.]),\n",
       "  array([28., 95., 75.,  2.,  0.,  0.,  0.,  0.,  0.,  0.]),\n",
       "  array([29., 91., 76.,  4.,  0.,  0.,  0.,  0.,  0.,  0.]),\n",
       "  array([25., 97., 76.,  2.,  0.,  0.,  0.,  0.,  0.,  0.]),\n",
       "  array([28., 92., 76.,  0.,  4.,  0.,  0.,  0.,  0.,  0.]),\n",
       "  array([26., 92., 75.,  1.,  5.,  1.,  0.,  0.,  0.,  0.]),\n",
       "  array([15., 99., 78.,  1.,  3.,  4.,  0.,  0.,  0.,  0.]),\n",
       "  array([23., 91., 77.,  1.,  3.,  3.,  2.,  0.,  0.,  0.]),\n",
       "  array([36., 80., 76.,  1.,  6.,  1.,  0.,  0.,  0.,  0.]),\n",
       "  array([40., 72., 83.,  2.,  3.,  0.,  0.,  0.,  0.,  0.]),\n",
       "  array([46., 63., 88.,  0.,  3.,  0.,  0.,  0.,  0.,  0.]),\n",
       "  array([65., 46., 83.,  0.,  3.,  1.,  0.,  2.,  0.,  0.]),\n",
       "  array([67., 40., 86.,  0.,  3.,  1.,  0.,  2.,  1.,  0.]),\n",
       "  array([68., 33., 94.,  0.,  3.,  1.,  0.,  1.,  0.,  0.]),\n",
       "  array([67., 34., 90.,  0.,  4.,  2.,  1.,  2.,  0.,  0.]),\n",
       "  array([67., 33., 88.,  3.,  2.,  2.,  5.,  0.,  0.,  0.]),\n",
       "  array([66., 35., 75., 19.,  1.,  1.,  3.,  0.,  0.,  0.]),\n",
       "  array([64., 36., 73., 22.,  1.,  1.,  3.,  0.,  0.,  0.]),\n",
       "  array([63., 34., 73., 23.,  5.,  2.,  0.,  0.,  0.,  0.]),\n",
       "  array([61., 35., 69., 27.,  1.,  5.,  0.,  1.,  1.,  0.]),\n",
       "  array([62., 32., 63., 28.,  3., 10.,  0.,  1.,  1.,  0.]),\n",
       "  array([63., 33., 60., 32.,  1.,  6.,  3.,  2.,  0.,  0.]),\n",
       "  array([63., 36., 59., 32.,  6.,  1.,  2.,  1.,  0.,  0.]),\n",
       "  array([60., 38., 57., 40.,  2.,  0.,  2.,  1.,  0.,  0.]),\n",
       "  array([61., 35., 62., 40.,  0.,  1.,  1.,  0.,  0.,  0.]),\n",
       "  array([57., 37., 62., 43.,  0.,  0.,  1.,  0.,  0.,  0.]),\n",
       "  array([58., 35., 62., 45.,  0.,  0.,  0.,  0.,  0.,  0.]),\n",
       "  array([57., 36., 61., 46.,  0.,  0.,  0.,  0.,  0.,  0.]),\n",
       "  array([56., 36., 61., 47.,  0.,  0.,  0.,  0.,  0.,  0.]),\n",
       "  array([56., 35., 60., 49.,  0.,  0.,  0.,  0.,  0.,  0.]),\n",
       "  array([56., 33., 61., 50.,  0.,  0.,  0.,  0.,  0.,  0.]),\n",
       "  array([55., 34., 59., 52.,  0.,  0.,  0.,  0.,  0.,  0.]),\n",
       "  array([54., 34., 59., 53.,  0.,  0.,  0.,  0.,  0.,  0.]),\n",
       "  array([53., 34., 59., 54.,  0.,  0.,  0.,  0.,  0.,  0.]),\n",
       "  array([53., 33., 58., 56.,  0.,  0.,  0.,  0.,  0.,  0.]),\n",
       "  array([52., 33., 56., 59.,  0.,  0.,  0.,  0.,  0.,  0.]),\n",
       "  array([51., 34., 54., 61.,  0.,  0.,  0.,  0.,  0.,  0.]),\n",
       "  array([50., 34., 53., 63.,  0.,  0.,  0.,  0.,  0.,  0.]),\n",
       "  array([49., 34., 52., 65.,  0.,  0.,  0.,  0.,  0.,  0.]),\n",
       "  array([49., 33., 52., 66.,  0.,  0.,  0.,  0.,  0.,  0.]),\n",
       "  array([48., 34., 49., 69.,  0.,  0.,  0.,  0.,  0.,  0.]),\n",
       "  array([47., 35., 46., 72.,  0.,  0.,  0.,  0.,  0.,  0.]),\n",
       "  array([45., 37., 42., 76.,  0.,  0.,  0.,  0.,  0.,  0.]),\n",
       "  array([45., 35., 41., 76.,  1.,  0.,  2.,  0.,  0.,  0.]),\n",
       "  array([45., 35., 36., 76.,  0.,  0.,  6.,  2.,  0.,  0.]),\n",
       "  array([44., 35., 35., 78.,  0.,  0.,  6.,  2.,  0.,  0.]),\n",
       "  array([42., 36., 35., 79.,  0.,  0.,  6.,  2.,  0.,  0.]),\n",
       "  array([40., 38., 35., 79.,  0.,  0.,  6.,  2.,  0.,  0.]),\n",
       "  array([39., 35., 40., 76.,  2.,  0.,  6.,  2.,  0.,  0.]),\n",
       "  array([39., 34., 39., 80.,  0.,  0.,  6.,  2.,  0.,  0.])],\n",
       " array([708.70001221, 714.67800903, 720.65600586, 726.63400269,\n",
       "        732.61199951, 738.58999634, 744.56799316, 750.54598999,\n",
       "        756.52398682, 762.50198364, 768.47998047]),\n",
       " <a list of 200 Lists of Patches objects>)"
      ]
     },
     "execution_count": 13,
     "metadata": {},
     "output_type": "execute_result"
    },
    {
     "data": {
      "image/png": "[encoded data removed]",
      "text/plain": [
       "<Figure size 432x288 with 1 Axes>"
      ]
     },
     "metadata": {
      "needs_background": "light"
     },
     "output_type": "display_data"
    }
   ],
   "source": [
    "plt.hist(img[:200,5000:5200])"
   ]
  },
  {
   "cell_type": "code",
   "execution_count": null,
   "metadata": {},
   "outputs": [],
   "source": [
    "origplot = plt.imshow(img[:,:,1],cmap='gray')"
   ]
  },
  {
   "cell_type": "code",
   "execution_count": null,
   "metadata": {},
   "outputs": [],
   "source": []
  }
 ],
 "metadata": {
  "kernelspec": {
   "display_name": "Python 3",
   "language": "python",
   "name": "python3"
  },
  "language_info": {
   "codemirror_mode": {
    "name": "ipython",
    "version": 3
   },
   "file_extension": ".py",
   "mimetype": "text/x-python",
   "name": "python",
   "nbconvert_exporter": "python",
   "pygments_lexer": "ipython3",
   "version": "3.6.8"
  }
 },
 "nbformat": 4,
 "nbformat_minor": 2
}
