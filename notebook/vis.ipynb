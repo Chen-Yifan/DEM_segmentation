{
 "cells": [
  {
   "cell_type": "code",
   "execution_count": 1,
   "metadata": {},
   "outputs": [],
   "source": [
    "import os\n",
    "results_dir = '/home/yifanc3/results/6.26/128overlap_500w_unetAdal_55ep/1/weights.54-1.85-iou63.07-results'# iou = 69%\n",
    "test_mask_dir = '/home/yifanc3/results/6.26/128overlap_500w_unetAdal_55ep/1/mask'\n",
    "test_frame_dir = '/home/yifanc3/results/6.26/128overlap_500w_unetAdal_55ep/1/frame'\n",
    "# plot_dir = '/home/yifanc3/segmentation_v2/DEM_segmentation/'\n",
    "\n",
    "\n",
    "# results_dir = '/home/yifanc3/results/Model_norm/'\n",
    "# test_mask_dir = '/home/yifanc3/results/resplit_orig_mask'\n",
    "# plot_dir = '/home/yifanc3/segmentation_v2/DEM_segmentation/'\n",
    "results_files = os.listdir(results_dir)\n",
    "masks_files = os.listdir(test_mask_dir)\n",
    "frames_files = os.listdir(test_frame_dir)"
   ]
  },
  {
   "cell_type": "code",
   "execution_count": null,
   "metadata": {},
   "outputs": [],
   "source": []
  },
  {
   "cell_type": "code",
   "execution_count": 2,
   "metadata": {},
   "outputs": [],
   "source": [
    "import matplotlib.pyplot as plt\n",
    "import matplotlib.image as mpimg\n",
    "import numpy as np"
   ]
  },
  {
   "cell_type": "code",
   "execution_count": 3,
   "metadata": {},
   "outputs": [],
   "source": [
    "pred1=np.load(os.path.join(results_dir,results_files[10]))\n",
    "pred0=np.load(os.path.join(results_dir,results_files[0]))\n",
    "orig0=np.load(os.path.join(test_mask_dir,masks_files[0]))\n",
    "orig1=np.load(os.path.join(test_mask_dir,masks_files[10]))\n",
    "pred2=np.load(os.path.join(results_dir,results_files[50]))\n",
    "orig2=np.load(os.path.join(test_mask_dir,masks_files[50]))\n",
    "frame0 =np.load(os.path.join(test_frame_dir,frames_files[50]))"
   ]
  },
  {
   "cell_type": "code",
   "execution_count": 4,
   "metadata": {},
   "outputs": [
    {
     "name": "stdout",
     "output_type": "stream",
     "text": [
      "(128, 128, 2)\n"
     ]
    }
   ],
   "source": [
    "print(orig0.shape)"
   ]
  },
  {
   "cell_type": "code",
   "execution_count": null,
   "metadata": {},
   "outputs": [],
   "source": [
    "def vis(i):\n",
    "    pred = np.load(os.path.join(results_dir,results_files[i]))\n",
    "    print(pred.shape)\n",
    "    orig =np.load(os.path.join(test_mask_dir,masks_files[i]))\n",
    "    orig = orig[:,:,1]\n",
    "    frame =np.load(os.path.join(test_frame_dir,frames_files[i]))\n",
    "    print(masks_files[i])\n",
    "    fig = plt.figure()\n",
    "    f = plt.figure(1)\n",
    "    plt.title('mask')\n",
    "    origplot = plt.imshow(orig,cmap='gray')\n",
    "    g = plt.figure(2)\n",
    "    plt.title('prediction')\n",
    "    predplot = plt.imshow(pred,cmap='gray')\n",
    "    a = plt.figure(3)\n",
    "    plt.title('frame0')\n",
    "    frame0 = plt.imshow(frame[:,:,0],cmap='gray',)\n",
    "    b = plt.figure(4)\n",
    "    plt.title('frame1')\n",
    "    frame1 = plt.imshow(frame[:,:,1],cmap='gray')\n",
    "    c = plt.figure(5)\n",
    "    plt.title('frame2')\n",
    "    frame2 = plt.imshow(frame[:,:,2],cmap='gray')\n",
    "    d = plt.figure(6)\n",
    "    plt.title('frame3')\n",
    "    frame3 = plt.imshow(frame[:,:,3],cmap='gray')\n",
    "    e = plt.figure(7)\n",
    "    plt.title('frame4')\n",
    "    frame4 = plt.imshow(frame[:,:,4],cmap='gray')\n",
    "    print(np.max(frame0),np.max(frame1),np.max(frame2),np.max(frame3),np.max(frame4))\n",
    "\n",
    "    plt.show()"
   ]
  },
  {
   "cell_type": "code",
   "execution_count": null,
   "metadata": {
    "scrolled": false
   },
   "outputs": [],
   "source": [
    "vis(133\n",
    "   )"
   ]
  },
  {
   "cell_type": "code",
   "execution_count": 7,
   "metadata": {},
   "outputs": [],
   "source": [
    "tot = 0\n",
    "for i in range(len(frames_files)):\n",
    "    orig =np.load(os.path.join(test_mask_dir,masks_files[i]))\n",
    "    num = np.count_nonzero(orig == 1)\n",
    "    tot += num/(256*256)"
   ]
  },
  {
   "cell_type": "code",
   "execution_count": 9,
   "metadata": {},
   "outputs": [
    {
     "name": "stdout",
     "output_type": "stream",
     "text": [
      "774\n",
      "0.5\n"
     ]
    }
   ],
   "source": [
    "print(len(frames_files))\n",
    "print(387/tot)"
   ]
  },
  {
   "cell_type": "code",
   "execution_count": 15,
   "metadata": {},
   "outputs": [
    {
     "data": {
      "image/png": "[encoded data removed]",
      "text/plain": [
       "<Figure size 432x288 with 1 Axes>"
      ]
     },
     "metadata": {
      "needs_background": "light"
     },
     "output_type": "display_data"
    }
   ],
   "source": [
    "imgplot = plt.imshow(orig0,cmap='gray')"
   ]
  },
  {
   "cell_type": "code",
   "execution_count": 18,
   "metadata": {},
   "outputs": [
    {
     "data": {
      "image/png": "[encoded data removed]",
      "text/plain": [
       "<Figure size 432x288 with 1 Axes>"
      ]
     },
     "metadata": {
      "needs_background": "light"
     },
     "output_type": "display_data"
    }
   ],
   "source": [
    "imgplot = plt.imshow(pred0,cmap='gray')"
   ]
  },
  {
   "cell_type": "code",
   "execution_count": 19,
   "metadata": {},
   "outputs": [
    {
     "data": {
      "image/png": "[encoded data removed]",
      "text/plain": [
       "<Figure size 432x288 with 1 Axes>"
      ]
     },
     "metadata": {
      "needs_background": "light"
     },
     "output_type": "display_data"
    }
   ],
   "source": [
    "imgplot = plt.imshow(orig1,cmap='gray')"
   ]
  },
  {
   "cell_type": "code",
   "execution_count": 20,
   "metadata": {},
   "outputs": [
    {
     "data": {
      "image/png": "[encoded data removed]",
      "text/plain": [
       "<Figure size 432x288 with 1 Axes>"
      ]
     },
     "metadata": {
      "needs_background": "light"
     },
     "output_type": "display_data"
    }
   ],
   "source": [
    "imgplot = plt.imshow(pred1,cmap='gray')"
   ]
  },
  {
   "cell_type": "code",
   "execution_count": 21,
   "metadata": {},
   "outputs": [
    {
     "data": {
      "image/png": "[encoded data removed]",
      "text/plain": [
       "<Figure size 432x288 with 1 Axes>"
      ]
     },
     "metadata": {
      "needs_background": "light"
     },
     "output_type": "display_data"
    }
   ],
   "source": [
    "imgplot = plt.imshow(orig2,cmap='gray')"
   ]
  },
  {
   "cell_type": "code",
   "execution_count": 22,
   "metadata": {},
   "outputs": [
    {
     "data": {
      "image/png": "[encoded data removed]",
      "text/plain": [
       "<Figure size 432x288 with 1 Axes>"
      ]
     },
     "metadata": {
      "needs_background": "light"
     },
     "output_type": "display_data"
    }
   ],
   "source": [
    "imgplot = plt.imshow(pred2,cmap='gray')"
   ]
  },
  {
   "cell_type": "markdown",
   "metadata": {},
   "source": [
    "# Plot"
   ]
  },
  {
   "cell_type": "code",
   "execution_count": 67,
   "metadata": {},
   "outputs": [],
   "source": [
    "img_iou=mpimg.imread(os.path.join(plot_dir,'Mean_IoU.png'))\n",
    "img_loss=mpimg.imread(os.path.join(plot_dir,'loss.png'))"
   ]
  },
  {
   "cell_type": "code",
   "execution_count": 66,
   "metadata": {},
   "outputs": [
    {
     "data": {
      "text/plain": [
       "(-0.5, 639.5, 479.5, -0.5)"
      ]
     },
     "execution_count": 66,
     "metadata": {},
     "output_type": "execute_result"
    },
    {
     "data": {
      "image/png": "[encoded data removed]",
      "text/plain": [
       "<Figure size 576x360 with 1 Axes>"
      ]
     },
     "metadata": {
      "needs_background": "light"
     },
     "output_type": "display_data"
    }
   ],
   "source": [
    "fig_size = plt.rcParams[\"figure.figsize\"]\n",
    "fig_size[0] = 8\n",
    "fig_size[1] = 5\n",
    "plt.rcParams[\"figure.figsize\"] = fig_size\n",
    "imgplot = plt.imshow(img_loss)\n",
    "plt.axis('off')"
   ]
  }
 ],
 "metadata": {
  "kernelspec": {
   "display_name": "Python 3",
   "language": "python",
   "name": "python3"
  },
  "language_info": {
   "codemirror_mode": {
    "name": "ipython",
    "version": 3
   },
   "file_extension": ".py",
   "mimetype": "text/x-python",
   "name": "python",
   "nbconvert_exporter": "python",
   "pygments_lexer": "ipython3",
   "version": "3.6.8"
  }
 },
 "nbformat": 4,
 "nbformat_minor": 2
}
