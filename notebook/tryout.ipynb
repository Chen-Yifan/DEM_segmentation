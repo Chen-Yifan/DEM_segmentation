{
 "cells": [
  {
   "cell_type": "code",
   "execution_count": 3,
   "metadata": {},
   "outputs": [
    {
     "name": "stdout",
     "output_type": "stream",
     "text": [
      "2_to_0.py                     generator.py\r\n",
      "300_unetAdam.6683.hal01.err   log.out\r\n",
      "300_unetAdam.6683.hal01.out   main.py\r\n",
      "400_unetAdam.6663.hal01.err   model.py\r\n",
      "400_unetAdam.6663.hal01.out   \u001b[0m\u001b[01;34moutput\u001b[0m/\r\n",
      "500_Adam.6218.hal03.out       prediction.py\r\n",
      "500_unetAdam.6633.hal06.err   \u001b[01;34m__pycache__\u001b[0m/\r\n",
      "500_unetAdam.6633.hal06.out   reload_and_predict.ipynb\r\n",
      "500_unetAdam.6657.hal01.err   remake_data.py\r\n",
      "500_unetAdam.6657.hal01.out   rename.py\r\n",
      "500_VGG16Adam.6221.hal03.err  run_script.sb\r\n",
      "500_VGG16Adam.6221.hal03.out  train.py\r\n",
      "50_Adam.6217.hal03.out        tryout.ipynb\r\n",
      "aug_main.py                   utils.py\r\n",
      "custom_generator.py           vis.ipynb\r\n",
      "custom_generator.pyc\r\n"
     ]
    }
   ],
   "source": [
    "ls"
   ]
  },
  {
   "cell_type": "code",
   "execution_count": 4,
   "metadata": {},
   "outputs": [
    {
     "ename": "FileNotFoundError",
     "evalue": "[Errno 2] No such file or directory: 'npy/train_frames/mclean_roi_mb_119_080.npy'",
     "output_type": "error",
     "traceback": [
      "\u001b[0;31m---------------------------------------------------------------------------\u001b[0m",
      "\u001b[0;31mFileNotFoundError\u001b[0m                         Traceback (most recent call last)",
      "\u001b[0;32m<ipython-input-4-4dde6cb8d540>\u001b[0m in \u001b[0;36m<module>\u001b[0;34m\u001b[0m\n\u001b[1;32m      1\u001b[0m \u001b[0;32mimport\u001b[0m \u001b[0mnumpy\u001b[0m \u001b[0;32mas\u001b[0m \u001b[0mnp\u001b[0m\u001b[0;34m\u001b[0m\u001b[0;34m\u001b[0m\u001b[0m\n\u001b[0;32m----> 2\u001b[0;31m \u001b[0mimage\u001b[0m \u001b[0;34m=\u001b[0m \u001b[0mnp\u001b[0m\u001b[0;34m.\u001b[0m\u001b[0mload\u001b[0m\u001b[0;34m(\u001b[0m\u001b[0;34m'npy/train_frames/mclean_roi_mb_119_080.npy'\u001b[0m\u001b[0;34m)\u001b[0m\u001b[0;34m\u001b[0m\u001b[0;34m\u001b[0m\u001b[0m\n\u001b[0m",
      "\u001b[0;32m/opt/apps/anaconda3/envs/powerai_env/lib/python3.6/site-packages/numpy/lib/npyio.py\u001b[0m in \u001b[0;36mload\u001b[0;34m(file, mmap_mode, allow_pickle, fix_imports, encoding)\u001b[0m\n\u001b[1;32m    370\u001b[0m     \u001b[0mown_fid\u001b[0m \u001b[0;34m=\u001b[0m \u001b[0;32mFalse\u001b[0m\u001b[0;34m\u001b[0m\u001b[0;34m\u001b[0m\u001b[0m\n\u001b[1;32m    371\u001b[0m     \u001b[0;32mif\u001b[0m \u001b[0misinstance\u001b[0m\u001b[0;34m(\u001b[0m\u001b[0mfile\u001b[0m\u001b[0;34m,\u001b[0m \u001b[0mbasestring\u001b[0m\u001b[0;34m)\u001b[0m\u001b[0;34m:\u001b[0m\u001b[0;34m\u001b[0m\u001b[0;34m\u001b[0m\u001b[0m\n\u001b[0;32m--> 372\u001b[0;31m         \u001b[0mfid\u001b[0m \u001b[0;34m=\u001b[0m \u001b[0mopen\u001b[0m\u001b[0;34m(\u001b[0m\u001b[0mfile\u001b[0m\u001b[0;34m,\u001b[0m \u001b[0;34m\"rb\"\u001b[0m\u001b[0;34m)\u001b[0m\u001b[0;34m\u001b[0m\u001b[0;34m\u001b[0m\u001b[0m\n\u001b[0m\u001b[1;32m    373\u001b[0m         \u001b[0mown_fid\u001b[0m \u001b[0;34m=\u001b[0m \u001b[0;32mTrue\u001b[0m\u001b[0;34m\u001b[0m\u001b[0;34m\u001b[0m\u001b[0m\n\u001b[1;32m    374\u001b[0m     \u001b[0;32melif\u001b[0m \u001b[0mis_pathlib_path\u001b[0m\u001b[0;34m(\u001b[0m\u001b[0mfile\u001b[0m\u001b[0;34m)\u001b[0m\u001b[0;34m:\u001b[0m\u001b[0;34m\u001b[0m\u001b[0;34m\u001b[0m\u001b[0m\n",
      "\u001b[0;31mFileNotFoundError\u001b[0m: [Errno 2] No such file or directory: 'npy/train_frames/mclean_roi_mb_119_080.npy'"
     ]
    }
   ],
   "source": [
    "import numpy as np\n",
    "image = np.load('npy/train_frames/mclean_roi_mb_119_080.npy')"
   ]
  },
  {
   "cell_type": "code",
   "execution_count": 18,
   "metadata": {},
   "outputs": [
    {
     "name": "stdout",
     "output_type": "stream",
     "text": [
      "[[[[ 0  1]\n",
      "   [ 2  3]\n",
      "   [ 4  5]\n",
      "   [ 6  7]]\n",
      "\n",
      "  [[ 8  9]\n",
      "   [10 11]\n",
      "   [12 13]\n",
      "   [14 15]]\n",
      "\n",
      "  [[16 17]\n",
      "   [18 19]\n",
      "   [20 21]\n",
      "   [22 23]]]\n",
      "\n",
      "\n",
      " [[[24 25]\n",
      "   [26 27]\n",
      "   [28 29]\n",
      "   [30 31]]\n",
      "\n",
      "  [[32 33]\n",
      "   [34 35]\n",
      "   [36 37]\n",
      "   [38 39]]\n",
      "\n",
      "  [[40 41]\n",
      "   [42 43]\n",
      "   [44 45]\n",
      "   [46 47]]]]\n"
     ]
    }
   ],
   "source": [
    "a = np.arange(48)\n",
    "a = a.reshape((2,3,4,2))\n",
    "print(a)"
   ]
  },
  {
   "cell_type": "code",
   "execution_count": 19,
   "metadata": {},
   "outputs": [
    {
     "name": "stdout",
     "output_type": "stream",
     "text": [
      "[[[[ 0  2]\n",
      "   [ 4  6]\n",
      "   [ 8 10]\n",
      "   [12 14]]\n",
      "\n",
      "  [[16 18]\n",
      "   [20 22]\n",
      "   [24 26]\n",
      "   [28 30]]\n",
      "\n",
      "  [[32 34]\n",
      "   [36 38]\n",
      "   [40 42]\n",
      "   [44 46]]]\n",
      "\n",
      "\n",
      " [[[48 50]\n",
      "   [52 54]\n",
      "   [56 58]\n",
      "   [60 62]]\n",
      "\n",
      "  [[64 66]\n",
      "   [68 70]\n",
      "   [72 74]\n",
      "   [76 78]]\n",
      "\n",
      "  [[80 82]\n",
      "   [84 86]\n",
      "   [88 90]\n",
      "   [92 94]]]]\n"
     ]
    }
   ],
   "source": [
    "b = np.arange(48).reshape((2,3,4,2))*2\n",
    "print(b)"
   ]
  },
  {
   "cell_type": "code",
   "execution_count": 21,
   "metadata": {},
   "outputs": [
    {
     "data": {
      "text/plain": [
       "(1, 2)"
      ]
     },
     "execution_count": 21,
     "metadata": {},
     "output_type": "execute_result"
    }
   ],
   "source": [
    "tuple(range(1, len(a.shape)-1)) "
   ]
  },
  {
   "cell_type": "code",
   "execution_count": 35,
   "metadata": {},
   "outputs": [
    {
     "data": {
      "text/plain": [
       "(1, 2)"
      ]
     },
     "execution_count": 35,
     "metadata": {},
     "output_type": "execute_result"
    }
   ],
   "source": [
    "tuple(range(1, 3))"
   ]
  },
  {
   "cell_type": "code",
   "execution_count": 29,
   "metadata": {},
   "outputs": [
    {
     "data": {
      "text/plain": [
       "(1, 2)"
      ]
     },
     "execution_count": 29,
     "metadata": {},
     "output_type": "execute_result"
    }
   ],
   "source": [
    "tuple(range(1, 3))"
   ]
  },
  {
   "cell_type": "code",
   "execution_count": 36,
   "metadata": {},
   "outputs": [
    {
     "name": "stdout",
     "output_type": "stream",
     "text": [
      "[[ 8096.  9200.]\n",
      " [61088. 64496.]]\n"
     ]
    }
   ],
   "source": [
    "numerator = 2. * np.sum(a * b, tuple(range(1, len(a.shape)-1)) )\n",
    "print(numerator)"
   ]
  },
  {
   "cell_type": "code",
   "execution_count": 28,
   "metadata": {},
   "outputs": [
    {
     "name": "stdout",
     "output_type": "stream",
     "text": [
      "[[2.996763   2.2393272  1.7381352  ... 1.5808836  1.1994978  0.79860324]\n",
      " [2.4011664  1.9628491  1.8026408  ... 2.0577664  1.7570992  1.2959198 ]\n",
      " [2.886951   3.9729075  3.99233    ... 1.0628033  0.8858251  0.9703405 ]\n",
      " ...\n",
      " [1.624238   1.3135468  1.3770803  ... 1.1922654  1.1949275  1.162187  ]\n",
      " [1.7010466  1.7360045  1.9306469  ... 1.3608227  1.0138186  0.73196596]\n",
      " [2.440472   2.2169726  2.3815024  ... 0.98271006 0.6483698  0.6239562 ]]\n"
     ]
    }
   ],
   "source": [
    "print(image[:,:,0])"
   ]
  },
  {
   "cell_type": "code",
   "execution_count": 24,
   "metadata": {},
   "outputs": [],
   "source": [
    "from PIL import Image\n",
    "new = Image.fromarray(image[:,:,0]).convert('L')\n",
    "img = new.resize((256,256))"
   ]
  },
  {
   "cell_type": "code",
   "execution_count": 25,
   "metadata": {},
   "outputs": [
    {
     "name": "stdout",
     "output_type": "stream",
     "text": [
      "[[2 2 1 ... 1 1 0]\n",
      " [2 1 1 ... 2 1 1]\n",
      " [2 3 3 ... 1 0 0]\n",
      " ...\n",
      " [1 1 1 ... 1 1 1]\n",
      " [1 1 1 ... 1 1 0]\n",
      " [2 2 2 ... 0 0 0]]\n"
     ]
    }
   ],
   "source": [
    "print(np.array(img))"
   ]
  },
  {
   "cell_type": "code",
   "execution_count": 3,
   "metadata": {},
   "outputs": [
    {
     "data": {
      "text/plain": [
       "dtype('float32')"
      ]
     },
     "execution_count": 3,
     "metadata": {},
     "output_type": "execute_result"
    }
   ],
   "source": [
    "image.dtype"
   ]
  },
  {
   "cell_type": "code",
   "execution_count": 2,
   "metadata": {},
   "outputs": [
    {
     "data": {
      "text/plain": [
       "2.0"
      ]
     },
     "execution_count": 2,
     "metadata": {},
     "output_type": "execute_result"
    }
   ],
   "source": [
    "np.max(image)"
   ]
  },
  {
   "cell_type": "code",
   "execution_count": 4,
   "metadata": {},
   "outputs": [
    {
     "data": {
      "text/plain": [
       "1.0"
      ]
     },
     "execution_count": 4,
     "metadata": {},
     "output_type": "execute_result"
    }
   ],
   "source": [
    "np.min(image)"
   ]
  },
  {
   "cell_type": "code",
   "execution_count": 5,
   "metadata": {},
   "outputs": [],
   "source": [
    "BATCH_SIZE = 16\n",
    "NO_OF_EPOCHS = 10"
   ]
  },
  {
   "cell_type": "code",
   "execution_count": 4,
   "metadata": {
    "scrolled": false
   },
   "outputs": [
    {
     "ename": "NameError",
     "evalue": "name 'datagen' is not defined",
     "output_type": "error",
     "traceback": [
      "\u001b[0;31m---------------------------------------------------------------------------\u001b[0m",
      "\u001b[0;31mNameError\u001b[0m                                 Traceback (most recent call last)",
      "\u001b[0;32m<ipython-input-4-22540e59dcb2>\u001b[0m in \u001b[0;36m<module>\u001b[0;34m\u001b[0m\n\u001b[1;32m     38\u001b[0m \u001b[0;31m# val_gen = data_gen(val_frame_path,val_mask_path, batch_size = BATCH_SIZE)\u001b[0m\u001b[0;34m\u001b[0m\u001b[0;34m\u001b[0m\u001b[0;34m\u001b[0m\u001b[0m\n\u001b[1;32m     39\u001b[0m \u001b[0mtrain_gen\u001b[0m \u001b[0;34m=\u001b[0m \u001b[0mtrain_gen_aug\u001b[0m\u001b[0;34m(\u001b[0m\u001b[0mtrain_frame_path\u001b[0m\u001b[0;34m,\u001b[0m \u001b[0mtrain_mask_path\u001b[0m\u001b[0;34m,\u001b[0m \u001b[0mBATCH_SIZE\u001b[0m\u001b[0;34m)\u001b[0m\u001b[0;34m\u001b[0m\u001b[0;34m\u001b[0m\u001b[0m\n\u001b[0;32m---> 40\u001b[0;31m \u001b[0mval_gen\u001b[0m \u001b[0;34m=\u001b[0m \u001b[0mval_gen_aug\u001b[0m\u001b[0;34m(\u001b[0m\u001b[0mval_frame_path\u001b[0m\u001b[0;34m,\u001b[0m \u001b[0mval_mask_path\u001b[0m\u001b[0;34m,\u001b[0m \u001b[0mBATCH_SIZE\u001b[0m\u001b[0;34m)\u001b[0m\u001b[0;34m\u001b[0m\u001b[0;34m\u001b[0m\u001b[0m\n\u001b[0m\u001b[1;32m     41\u001b[0m \u001b[0;34m\u001b[0m\u001b[0m\n\u001b[1;32m     42\u001b[0m \u001b[0;31m# Train the model\u001b[0m\u001b[0;34m\u001b[0m\u001b[0;34m\u001b[0m\u001b[0;34m\u001b[0m\u001b[0m\n",
      "\u001b[0;32m~/segmentation_v2/DEM_segmentation/generator.py\u001b[0m in \u001b[0;36mval_gen_aug\u001b[0;34m(img_folder, mask_folder, batch_size)\u001b[0m\n\u001b[1;32m    146\u001b[0m \u001b[0;31m#     mask_datagen.fit(mask)\u001b[0m\u001b[0;34m\u001b[0m\u001b[0;34m\u001b[0m\u001b[0;34m\u001b[0m\u001b[0m\n\u001b[1;32m    147\u001b[0m \u001b[0;34m\u001b[0m\u001b[0m\n\u001b[0;32m--> 148\u001b[0;31m     \u001b[0mimg_gen\u001b[0m \u001b[0;34m=\u001b[0m \u001b[0mimg_datagen\u001b[0m\u001b[0;34m.\u001b[0m\u001b[0mflow\u001b[0m\u001b[0;34m(\u001b[0m\u001b[0mimg\u001b[0m\u001b[0;34m,\u001b[0m \u001b[0mbatch_size\u001b[0m\u001b[0;34m=\u001b[0m\u001b[0mbatch_size\u001b[0m\u001b[0;34m,\u001b[0m \u001b[0mshuffle\u001b[0m\u001b[0;34m=\u001b[0m\u001b[0;32mTrue\u001b[0m\u001b[0;34m)\u001b[0m\u001b[0;34m\u001b[0m\u001b[0;34m\u001b[0m\u001b[0m\n\u001b[0m\u001b[1;32m    149\u001b[0m     \u001b[0mmask_gen\u001b[0m \u001b[0;34m=\u001b[0m \u001b[0mmask_datagen\u001b[0m\u001b[0;34m.\u001b[0m\u001b[0mflow\u001b[0m\u001b[0;34m(\u001b[0m\u001b[0mmask\u001b[0m\u001b[0;34m,\u001b[0m \u001b[0mbatch_size\u001b[0m\u001b[0;34m=\u001b[0m\u001b[0mbatch_size\u001b[0m\u001b[0;34m,\u001b[0m \u001b[0mshuffle\u001b[0m\u001b[0;34m=\u001b[0m\u001b[0;32mTrue\u001b[0m\u001b[0;34m)\u001b[0m\u001b[0;34m\u001b[0m\u001b[0;34m\u001b[0m\u001b[0m\n\u001b[1;32m    150\u001b[0m     \u001b[0mval_gen\u001b[0m \u001b[0;34m=\u001b[0m \u001b[0mzip\u001b[0m\u001b[0;34m(\u001b[0m\u001b[0mimg_gen\u001b[0m\u001b[0;34m,\u001b[0m \u001b[0mmask_gen\u001b[0m\u001b[0;34m)\u001b[0m\u001b[0;34m\u001b[0m\u001b[0;34m\u001b[0m\u001b[0m\n",
      "\u001b[0;31mNameError\u001b[0m: name 'datagen' is not defined"
     ]
    }
   ],
   "source": [
    "from custom_generator import *\n",
    "from generator import *\n",
    "from keras.callbacks import ModelCheckpoint\n",
    "from keras.callbacks import CSVLogger\n",
    "from keras.callbacks import EarlyStopping\n",
    "import os\n",
    "import tensorflow as tf\n",
    "import keras.backend as K\n",
    "import model\n",
    "from model import dice_coef_loss, dice_coef\n",
    "from utils import *\n",
    "import numpy as np\n",
    "from keras.layers import Input, Conv2D, MaxPooling2D, UpSampling2D, Conv2D, Reshape\n",
    "from keras.layers.core import Dropout, Activation\n",
    "from keras.models import Model\n",
    "from keras.optimizers import Adadelta, Adam\n",
    "import matplotlib.pyplot as plt\n",
    "import time\n",
    "from functools import *\n",
    "\n",
    "BATCH_SIZE = 32\n",
    "NO_OF_EPOCHS = 5\n",
    "Model_name = '500_UnetAdadelta_aug_5ep'\n",
    "result_name = '500_UnetAdadelta_aug_5ep'\n",
    "\n",
    "Checkpoint_path = '/home/yifanc3/checkpoints/%s/' % Model_name\n",
    "if not os.path.isdir(Checkpoint_path):\n",
    "    os.makedirs(Checkpoint_path)    \n",
    "    \n",
    "#TRAIN\n",
    "train_frame_path = '/home/yifanc3/dataset/npy/no_shuffle/train_frames'\n",
    "train_mask_path = '/home/yifanc3/dataset/npy/no_shuffle/train_masks'\n",
    "\n",
    "val_frame_path = '/home/yifanc3/dataset/npy/no_shuffle/val_frames'\n",
    "val_mask_path = '/home/yifanc3/dataset/npy/no_shuffle/val_masks'\n",
    "\n",
    "# train_gen = data_gen(train_frame_path,train_mask_path, batch_size = BATCH_SIZE)\n",
    "# val_gen = data_gen(val_frame_path,val_mask_path, batch_size = BATCH_SIZE)\n",
    "train_gen = train_gen_aug(train_frame_path, train_mask_path, BATCH_SIZE)\n",
    "val_gen = val_gen_aug(val_frame_path, val_mask_path, BATCH_SIZE)\n",
    "\n",
    "# Train the model\n",
    "NO_OF_TRAINING_IMAGES = len(os.listdir('/home/yifanc3/dataset/npy/no_shuffle/train_frames/'))\n",
    "NO_OF_VAL_IMAGES = len(os.listdir('/home/yifanc3/dataset/npy/no_shuffle/val_frames/'))\n",
    "\n",
    "#NO_OF_EPOCHS = 'ANYTHING FROM 30-100 FOR SMALL-MEDIUM SIZED DATASETS IS OKAY'\n",
    "\n",
    "#BATCH_SIZE = 'BATCH SIZE PREVIOUSLY INITIALISED'\n",
    "\n",
    "weights_path = '/home/yifanc3/checkpoints/%s/weights.{epoch:02d}-{val_loss:.2f}.hdf5' % Model_name\n",
    "\n",
    "#vgg16_32s\n",
    "inputs = Input((256,256,5))\n",
    "base = model.get_unet(inputs)\n",
    "# print('base shape,',base.get_shape())\n",
    "m = Model(inputs=inputs, outputs=base)\n",
    "m.summary()\n",
    "\n",
    "opt = Adam(lr=1E-5, beta_1=0.9, beta_2=0.999, epsilon=1e-08)\n",
    "\n",
    "# m.compile(loss=soft_dice_loss,\n",
    "#                optimizer=opt,\n",
    "#                metrics=[Mean_IOU])\n",
    "\n",
    "\n",
    "start = time.time()\n",
    "\n",
    "ncce = partial(w_categorical_crossentropy)\n",
    "\n",
    "m.compile( optimizer = Adadelta(), loss = pixel_wise_loss, metrics = [Mean_IOU,'accuracy'])\n",
    "\n",
    "checkpoint = ModelCheckpoint(weights_path, monitor='val_loss',\n",
    "                             verbose=1, save_best_only=True, mode='min')\n",
    "\n",
    "csv_logger = CSVLogger('./log.out', append=True, separator=';')\n",
    "\n",
    "earlystopping = EarlyStopping(monitor = 'val_loss', verbose = 1,\n",
    "                             min_delta = 0.01, patience = 3, mode = 'min')\n",
    "\n",
    "callbacks_list = [checkpoint, csv_logger] #, earlystopping]\n",
    "\n",
    "history = m.fit_generator(train_gen, epochs=NO_OF_EPOCHS,\n",
    "                          steps_per_epoch = (NO_OF_TRAINING_IMAGES//BATCH_SIZE),\n",
    "                          validation_data=val_gen,\n",
    "                          validation_steps=(NO_OF_VAL_IMAGES//BATCH_SIZE),\n",
    "                          callbacks=callbacks_list)\n",
    "\n",
    "\n",
    "Model_path = '/home/yifanc3/models/%s/' % Model_name\n",
    "if not os.path.isdir(Model_path):\n",
    "    os.makedirs(Model_path)\n",
    "    \n",
    "    \n",
    "print(history.history.keys())\n",
    "# summarize history for accuracy\n",
    "plt.plot(history.history['Mean_IOU'])\n",
    "plt.plot(history.history['val_Mean_IOU'])\n",
    "plt.title('model Mean_IOU')\n",
    "plt.ylabel('Mean_IOU')\n",
    "plt.xlabel('epoch')\n",
    "plt.legend(['train', 'val'], loc='upper left')\n",
    "plt.savefig(os.path.join(Model_path,'Mean_IoU.png'))\n",
    "plt.clf()\n",
    "plt.cla()\n",
    "plt.close()\n",
    "\n",
    "# summarize history for loss\n",
    "plt.plot(history.history['loss'])\n",
    "plt.plot(history.history['val_loss'])\n",
    "plt.title('model loss')\n",
    "plt.ylabel('loss')\n",
    "plt.xlabel('epoch')\n",
    "plt.legend(['train', 'val'], loc='upper left')\n",
    "plt.savefig(os.path.join(Model_path,'loss.png'))\n",
    "\n",
    "\n",
    "Model_path = '/home/yifanc3/models/%s/' % Model_name\n",
    "if not os.path.isdir(Model_path):\n",
    "    os.makedirs(Model_path)\n",
    "\n",
    "m.save(os.path.join(Model_path,'%s.h5' %Model_name))\n",
    "end = time.time()\n",
    "print('train_time = %d' %(end - start))\n",
    "\n",
    "#TEST\n",
    "print('======Start Testing======')\n",
    "   \n",
    "test_frame_path = '/home/yifanc3/dataset/npy/no_shuffle/test_frames'\n",
    "test_mask_path = '/home/yifanc3/dataset/npy/no_shuffle/test_masks'\n",
    "\n",
    "\n",
    "# test_gene = test_gen(test_frame_path, test_mask_path)\n",
    "# results = m.predict_generator(test_gene, 30, verbose=1)\n",
    "\n",
    "X,Y = test_gen(test_frame_path, test_mask_path)\n",
    "\n",
    "score = m.evaluate(X, Y, verbose=0)\n",
    "print(\"%s: %.2f%%\" % (m.metrics_names[1], score[1]*100))\n",
    "# print(\"%s: %.2f%%\" % (m.metrics_names[2], score[2]*100))\n",
    "# print(\"%s: %.2f%%\" % (m.metrics_names[3], score[3]*100))\n",
    "# print(\"%s: %.2f%%\" % (m.metrics_names[4], score[4]*100))\n",
    "# print(\"%s: %.2f%%\" % (m.metrics_names[5], score[5]*100))\n",
    "# print(\"%s: %.2f%%\" % (m.metrics_names[6], score[6]*100))\n",
    "\n",
    "results = m.predict(X)\n",
    "new_r = np.argmax(results,axis=-1)\n",
    "\n",
    "#save image\n",
    "save_frame_path = \"/home/yifanc3/results/orig_frames_256\"\n",
    "result_path = os.path.join(\"/home/yifanc3/results/\",result_name)\n",
    "\n",
    "if not os.path.isdir(result_path):\n",
    "    os.makedirs(result_path)\n",
    "    \n",
    "if not os.path.isdir(save_frame_path):\n",
    "    os.makedirs(save_frame_path)\n",
    "    \n",
    "saveResult(result_path, test_mask_path,results)\n",
    "# saveFrame_256(save_frame_path, test_frame_path, X)\n",
    "\n",
    "\n",
    "\n",
    "\n"
   ]
  },
  {
   "cell_type": "code",
   "execution_count": 7,
   "metadata": {
    "scrolled": true
   },
   "outputs": [
    {
     "ename": "ImportError",
     "evalue": "No module named 'keras'",
     "output_type": "error",
     "traceback": [
      "\u001b[0;31m---------------------------------------------------------------------------\u001b[0m",
      "\u001b[0;31mImportError\u001b[0m                               Traceback (most recent call last)",
      "\u001b[0;32m<ipython-input-7-34d923f3f561>\u001b[0m in \u001b[0;36m<module>\u001b[0;34m()\u001b[0m\n\u001b[0;32m----> 1\u001b[0;31m \u001b[0;32mfrom\u001b[0m \u001b[0mkeras\u001b[0m\u001b[0;34m.\u001b[0m\u001b[0mcallbacks\u001b[0m \u001b[0;32mimport\u001b[0m \u001b[0mModelCheckpoint\u001b[0m\u001b[0;34m\u001b[0m\u001b[0m\n\u001b[0m\u001b[1;32m      2\u001b[0m \u001b[0;32mfrom\u001b[0m \u001b[0mkeras\u001b[0m\u001b[0;34m.\u001b[0m\u001b[0mcallbacks\u001b[0m \u001b[0;32mimport\u001b[0m \u001b[0mCSVLogger\u001b[0m\u001b[0;34m\u001b[0m\u001b[0m\n\u001b[1;32m      3\u001b[0m \u001b[0;32mfrom\u001b[0m \u001b[0mkeras\u001b[0m\u001b[0;34m.\u001b[0m\u001b[0mcallbacks\u001b[0m \u001b[0;32mimport\u001b[0m \u001b[0mEarlyStopping\u001b[0m\u001b[0;34m\u001b[0m\u001b[0m\n\u001b[1;32m      4\u001b[0m \u001b[0;32mfrom\u001b[0m \u001b[0mkeras\u001b[0m\u001b[0;34m.\u001b[0m\u001b[0moptimizers\u001b[0m \u001b[0;32mimport\u001b[0m \u001b[0mAdam\u001b[0m\u001b[0;34m\u001b[0m\u001b[0m\n\u001b[1;32m      5\u001b[0m \u001b[0;34m\u001b[0m\u001b[0m\n",
      "\u001b[0;31mImportError\u001b[0m: No module named 'keras'"
     ]
    }
   ],
   "source": [
    "from keras.callbacks import ModelCheckpoint\n",
    "from keras.callbacks import CSVLogger\n",
    "from keras.callbacks import EarlyStopping\n",
    "from keras.optimizers import Adam\n",
    "\n",
    "import model\n",
    "\n",
    "NO_OF_TRAINING_IMAGES = len(os.listdir('/home/yifanc3/npy/train_frames/'))\n",
    "NO_OF_VAL_IMAGES = len(os.listdir('/home/yifanc3/npy/val_frames/'))\n",
    "\n",
    "#NO_OF_EPOCHS = 'ANYTHING FROM 30-100 FOR SMALL-MEDIUM SIZED DATASETS IS OKAY'\n",
    "\n",
    "#BATCH_SIZE = 'BATCH SIZE PREVIOUSLY INITIALISED'\n",
    "\n",
    "weights_path = '/home/yifanc3/checkpoints/v1_weight/'\n",
    "\n",
    "m = model.FCN_Vgg16_32s()\n",
    "opt = Adam(lr=1E-5, beta_1=0.9, beta_2=0.999, epsilon=1e-08)\n",
    "\n",
    "m.compile(loss='dice_loss',\n",
    "              optimizer=opt,\n",
    "              metrics= mIOU)\n",
    "\n",
    "checkpoint = ModelCheckpoint(weights_path, monitor='METRIC_TO_MONITOR', \n",
    "                             verbose=1, save_best_only=True, mode='max')\n",
    "\n",
    "csv_logger = CSVLogger('./log.out', append=True, separator=';')\n",
    "\n",
    "earlystopping = EarlyStopping(monitor = 'METRIC_TO_MONITOR', verbose = 1,\n",
    "                              min_delta = 0.01, patience = 3, mode = 'max')\n",
    "\n",
    "callbacks_list = [checkpoint, csv_logger, earlystopping]\n",
    "\n",
    "results = m.fit_generator(train_gen, epochs=NO_OF_EPOCHS, \n",
    "                          steps_per_epoch = (NO_OF_TRAINING_IMAGES//BATCH_SIZE),\n",
    "                          validation_data=val_gen, \n",
    "                          validation_steps=(NO_OF_VAL_IMAGES//BATCH_SIZE), \n",
    "                          callbacks=callbacks_list)\n",
    "m.save('Model.h5')"
   ]
  },
  {
   "cell_type": "code",
   "execution_count": 27,
   "metadata": {},
   "outputs": [],
   "source": [
    "import os\n",
    "test_mask_dir = '/home/yifanc3/dataset/tif/val_masks/val_masks/'"
   ]
  },
  {
   "cell_type": "code",
   "execution_count": 28,
   "metadata": {},
   "outputs": [],
   "source": [
    "masks_files = os.listdir(test_mask_dir)"
   ]
  },
  {
   "cell_type": "code",
   "execution_count": 29,
   "metadata": {},
   "outputs": [],
   "source": [
    "import matplotlib.pyplot as plt\n",
    "import matplotlib.image as mpimg\n",
    "import numpy as np\n",
    "from libtiff import TIFF"
   ]
  },
  {
   "cell_type": "code",
   "execution_count": 30,
   "metadata": {},
   "outputs": [],
   "source": [
    "file = os.path.join(test_mask_dir + masks_files[0])\n"
   ]
  },
  {
   "cell_type": "code",
   "execution_count": 31,
   "metadata": {},
   "outputs": [],
   "source": [
    "tif = TIFF.open(file)\n",
    "img = tif.read_image()\n",
    "# img = np.load(MASK_PATH+image)\n",
    "#img.save(DATA_PATH+'/{}'.format(dir_name)+'/'+image)\n",
    "# filename = '/home/yifanc3/dataset/tif/'+'{}'.format(dir_name)+'/'+image[-11:-3]+'tif'\n",
    "# print(filename)\n",
    "# tif = TIFF.open(filename, mode='w')\n",
    "# tif.write_image(img)"
   ]
  },
  {
   "cell_type": "code",
   "execution_count": 32,
   "metadata": {},
   "outputs": [
    {
     "data": {
      "text/plain": [
       "array([1., 2.], dtype=float32)"
      ]
     },
     "execution_count": 32,
     "metadata": {},
     "output_type": "execute_result"
    }
   ],
   "source": [
    "np.unique(img)"
   ]
  },
  {
   "cell_type": "code",
   "execution_count": null,
   "metadata": {},
   "outputs": [],
   "source": []
  }
 ],
 "metadata": {
  "kernelspec": {
   "display_name": "Python 3",
   "language": "python",
   "name": "python3"
  },
  "language_info": {
   "codemirror_mode": {
    "name": "ipython",
    "version": 3
   },
   "file_extension": ".py",
   "mimetype": "text/x-python",
   "name": "python",
   "nbconvert_exporter": "python",
   "pygments_lexer": "ipython3",
   "version": "3.6.8"
  }
 },
 "nbformat": 4,
 "nbformat_minor": 2
}
