{
 "cells": [
  {
   "cell_type": "code",
   "execution_count": 7,
   "metadata": {},
   "outputs": [],
   "source": [
    "import os\n",
    "os.chdir('..')"
   ]
  },
  {
   "cell_type": "markdown",
   "metadata": {},
   "source": [
    "# run prediction2.py"
   ]
  },
  {
   "cell_type": "code",
   "execution_count": 15,
   "metadata": {},
   "outputs": [],
   "source": [
    "from k_fold import *\n",
    "from utils import *\n",
    "from keras.callbacks import ModelCheckpoint\n",
    "from keras.callbacks import CSVLogger\n",
    "from keras.callbacks import EarlyStopping\n",
    "import os\n",
    "import tensorflow as tf\n",
    "import keras.backend as K\n",
    "import model\n",
    "import numpy as np\n",
    "from keras.layers import Input, Conv2D, MaxPooling2D, UpSampling2D, Conv2D, Reshape\n",
    "from layers import MaxPoolingWithArgmax2D, MaxUnpooling2D\n",
    "from keras.layers.core import Dropout, Activation\n",
    "from keras.models import Model,load_model\n",
    "from keras.optimizers import Adadelta, Adam\n",
    "import matplotlib.pyplot as plt\n",
    "\n",
    "import keras.losses\n",
    "import keras.metrics\n"
   ]
  },
  {
   "cell_type": "code",
   "execution_count": 65,
   "metadata": {},
   "outputs": [],
   "source": [
    "test_mask_path = '/home/yifanc3/results/6.26/128overlap_500w_unetAdal_55ep/0/mask'\n",
    "test_frame_path = '/home/yifanc3/results/6.26/128overlap_500w_unetAdal_55ep/0/frame'\n",
    "result_path = '/home/yifanc3/results/6.26/128overlap_500w_unetAdal_55ep/0/weights.50-iou59-results'\n",
    "Model_name = '128overlap_500w_unetAdal_55ep'\n",
    "weights_name = 'weights.50-1.79.hdf5'\n",
    "shape = 128"
   ]
  },
  {
   "cell_type": "code",
   "execution_count": 70,
   "metadata": {},
   "outputs": [],
   "source": [
    "def load_test(img_folder, mask_folder, shape=128):\n",
    "    n = os.listdir(img_folder)\n",
    "    img = np.zeros((len(n), shape, shape, 5)).astype(np.float32)\n",
    "    mask = np.zeros((len(n), shape, shape, 2), dtype=np.float32)\n",
    "    \n",
    "    for i in range(len(n)): #initially from 0 to 16, c = 0. \n",
    "        train_img_0 = np.load(img_folder+'/'+n[i]) #normalization:the range is about -100 to 360\n",
    "        if(train_img_0.shape!=(shape,shape,5)):\n",
    "            continue\n",
    "        img[i] = train_img_0 #add to array - img[0], img[1], and so on.\n",
    "        \n",
    "        #train_mask\n",
    "        train_mask = np.load(mask_folder+'/'+n[i]) # 1.0 or 2.0 \n",
    "        mask[i] = train_mask\n",
    "    return img, mask    \n",
    "\n",
    "def saveResult(save_path, test_mask_path, results, flag_multi_class = False, num_class = 2, shape=128):\n",
    "    n = os.listdir(test_mask_path)\n",
    "    result_shape = np.shape(results)\n",
    "    print(result_shape)\n",
    "    results = results.reshape(len(n),shape,shape,2)\n",
    "    #results = results.astype('uint8')\n",
    "    for i in range(result_shape[0]):\n",
    "        img = np.argmax(results[i],axis = -1)\n",
    "        img = np.squeeze(img)\n",
    "        #cv2.imwrite(os.path.join(save_path,\"%s_predict.png\"%n[i][0:-4]),results[i])\n",
    "        np.save(os.path.join(save_path,\"%s_predict.npy\"%n[i][0:-4]),img)\n"
   ]
  },
  {
   "cell_type": "code",
   "execution_count": 63,
   "metadata": {},
   "outputs": [
    {
     "name": "stderr",
     "output_type": "stream",
     "text": [
      "/home/yifanc3/segmentation/DEM_segmentation/model.py:296: UserWarning: Update your `Model` call to the Keras 2 API: `Model(inputs=Tensor(\"in..., outputs=Tensor(\"co...)`\n",
      "  model = Model(input = inputs, output = conv10)\n"
     ]
    },
    {
     "name": "stdout",
     "output_type": "stream",
     "text": [
      "__________________________________________________________________________________________________\n",
      "Layer (type)                    Output Shape         Param #     Connected to                     \n",
      "==================================================================================================\n",
      "input_6 (InputLayer)            (None, 128, 128, 5)  0                                            \n",
      "__________________________________________________________________________________________________\n",
      "conv2d_131 (Conv2D)             (None, 128, 128, 32) 1472        input_6[0][0]                    \n",
      "__________________________________________________________________________________________________\n",
      "conv2d_132 (Conv2D)             (None, 128, 128, 32) 9248        conv2d_131[0][0]                 \n",
      "__________________________________________________________________________________________________\n",
      "max_pooling2d_1 (MaxPooling2D)  (None, 64, 64, 32)   0           conv2d_132[0][0]                 \n",
      "__________________________________________________________________________________________________\n",
      "conv2d_133 (Conv2D)             (None, 64, 64, 64)   18496       max_pooling2d_1[0][0]            \n",
      "__________________________________________________________________________________________________\n",
      "conv2d_134 (Conv2D)             (None, 64, 64, 64)   36928       conv2d_133[0][0]                 \n",
      "__________________________________________________________________________________________________\n",
      "max_pooling2d_2 (MaxPooling2D)  (None, 32, 32, 64)   0           conv2d_134[0][0]                 \n",
      "__________________________________________________________________________________________________\n",
      "conv2d_135 (Conv2D)             (None, 32, 32, 128)  73856       max_pooling2d_2[0][0]            \n",
      "__________________________________________________________________________________________________\n",
      "conv2d_136 (Conv2D)             (None, 32, 32, 128)  147584      conv2d_135[0][0]                 \n",
      "__________________________________________________________________________________________________\n",
      "max_pooling2d_3 (MaxPooling2D)  (None, 16, 16, 128)  0           conv2d_136[0][0]                 \n",
      "__________________________________________________________________________________________________\n",
      "conv2d_137 (Conv2D)             (None, 16, 16, 256)  295168      max_pooling2d_3[0][0]            \n",
      "__________________________________________________________________________________________________\n",
      "conv2d_138 (Conv2D)             (None, 16, 16, 256)  590080      conv2d_137[0][0]                 \n",
      "__________________________________________________________________________________________________\n",
      "max_pooling2d_4 (MaxPooling2D)  (None, 8, 8, 256)    0           conv2d_138[0][0]                 \n",
      "__________________________________________________________________________________________________\n",
      "conv2d_139 (Conv2D)             (None, 8, 8, 512)    1180160     max_pooling2d_4[0][0]            \n",
      "__________________________________________________________________________________________________\n",
      "conv2d_140 (Conv2D)             (None, 8, 8, 512)    2359808     conv2d_139[0][0]                 \n",
      "__________________________________________________________________________________________________\n",
      "up_sampling2d_1 (UpSampling2D)  (None, 16, 16, 512)  0           conv2d_140[0][0]                 \n",
      "__________________________________________________________________________________________________\n",
      "concatenate_1 (Concatenate)     (None, 16, 16, 768)  0           up_sampling2d_1[0][0]            \n",
      "                                                                 conv2d_138[0][0]                 \n",
      "__________________________________________________________________________________________________\n",
      "conv2d_141 (Conv2D)             (None, 16, 16, 256)  1769728     concatenate_1[0][0]              \n",
      "__________________________________________________________________________________________________\n",
      "conv2d_142 (Conv2D)             (None, 16, 16, 256)  590080      conv2d_141[0][0]                 \n",
      "__________________________________________________________________________________________________\n",
      "up_sampling2d_2 (UpSampling2D)  (None, 32, 32, 256)  0           conv2d_142[0][0]                 \n",
      "__________________________________________________________________________________________________\n",
      "concatenate_2 (Concatenate)     (None, 32, 32, 384)  0           up_sampling2d_2[0][0]            \n",
      "                                                                 conv2d_136[0][0]                 \n",
      "__________________________________________________________________________________________________\n",
      "conv2d_143 (Conv2D)             (None, 32, 32, 128)  442496      concatenate_2[0][0]              \n",
      "__________________________________________________________________________________________________\n",
      "conv2d_144 (Conv2D)             (None, 32, 32, 128)  147584      conv2d_143[0][0]                 \n",
      "__________________________________________________________________________________________________\n",
      "up_sampling2d_3 (UpSampling2D)  (None, 64, 64, 128)  0           conv2d_144[0][0]                 \n",
      "__________________________________________________________________________________________________\n",
      "concatenate_3 (Concatenate)     (None, 64, 64, 192)  0           up_sampling2d_3[0][0]            \n",
      "                                                                 conv2d_134[0][0]                 \n",
      "__________________________________________________________________________________________________\n",
      "conv2d_145 (Conv2D)             (None, 64, 64, 64)   110656      concatenate_3[0][0]              \n",
      "__________________________________________________________________________________________________\n",
      "conv2d_146 (Conv2D)             (None, 64, 64, 64)   36928       conv2d_145[0][0]                 \n",
      "__________________________________________________________________________________________________\n",
      "up_sampling2d_4 (UpSampling2D)  (None, 128, 128, 64) 0           conv2d_146[0][0]                 \n",
      "__________________________________________________________________________________________________\n",
      "concatenate_4 (Concatenate)     (None, 128, 128, 96) 0           up_sampling2d_4[0][0]            \n",
      "                                                                 conv2d_132[0][0]                 \n",
      "__________________________________________________________________________________________________\n",
      "conv2d_147 (Conv2D)             (None, 128, 128, 32) 27680       concatenate_4[0][0]              \n",
      "__________________________________________________________________________________________________\n",
      "conv2d_148 (Conv2D)             (None, 128, 128, 32) 9248        conv2d_147[0][0]                 \n",
      "__________________________________________________________________________________________________\n",
      "conv2d_149 (Conv2D)             (None, 128, 128, 2)  66          conv2d_148[0][0]                 \n",
      "==================================================================================================\n",
      "Total params: 7,847,266\n",
      "Trainable params: 7,847,266\n",
      "Non-trainable params: 0\n",
      "__________________________________________________________________________________________________\n",
      "<dtype: 'float32'> <dtype: 'float32'> <dtype: 'float32'>\n",
      "(?, 16384, ?) (?, 16384, 2) (?, 16384, 2)\n",
      "(754, 128, 128, 5) (754, 128, 128, 2)\n",
      "per_pixel_acc: 97.57%\n",
      "Mean_IOU: 59.00%\n",
      "precision: 15.72%\n",
      "recall: 43.85%\n",
      "f1score: 22.82%\n"
     ]
    }
   ],
   "source": [
    "keras.losses.pixel_wise_loss = pixel_wise_loss\n",
    "keras.metrics.Mean_IOU = Mean_IOU\n",
    "keras.metrics.recall = recall\n",
    "keras.metrics.precision = precision\n",
    "keras.metrics.f1score = f1score\n",
    "keras.metrics.per_pixel_acc = per_pixel_acc\n",
    "from keras.utils import CustomObjectScope\n",
    "\n",
    "\n",
    "Model_dir = '/home/yifanc3/models/6.26/%s/ckpt_weights/%s'%(Model_name, weights_name)\n",
    "# load model?\n",
    "\n",
    "m = model.get_unet(input_shape = (128,128,5))\n",
    "m.load_weights(Model_dir)\n",
    "\n",
    "opt = Adam(lr=1E-5, beta_1=0.9, beta_2=0.999, epsilon=1e-08)\n",
    "opt2 = Adadelta(lr=1, rho=0.95, epsilon=1e-08, decay=0.0)    \n",
    "m.compile(optimizer = opt2, loss = pixel_wise_loss, metrics = [per_pixel_acc, Mean_IOU, precision, recall, f1score])\n",
    "\n",
    "X,Y = load_test(test_frame_path, test_mask_path)\n",
    "\n",
    "score = m.evaluate(X, Y, verbose=0)\n",
    "print(\"%s: %.2f%%\" % (m.metrics_names[1], score[1]*100))\n",
    "print(\"%s: %.2f%%\" % (m.metrics_names[2], score[2]*100))\n",
    "print(\"%s: %.2f%%\" % (m.metrics_names[3], score[3]*100))\n",
    "print(\"%s: %.2f%%\" % (m.metrics_names[4], score[4]*100))\n",
    "print(\"%s: %.2f%%\" % (m.metrics_names[5], score[5]*100))\n",
    "# print(\"%s: %.2f%%\" % (m.metrics_names[6], score[6]*100))\n",
    "\n",
    "results = m.predict(X)\n",
    "new_r = np.argmax(results,axis=-1)\n",
    "    "
   ]
  },
  {
   "cell_type": "code",
   "execution_count": 71,
   "metadata": {},
   "outputs": [
    {
     "name": "stdout",
     "output_type": "stream",
     "text": [
      "(754, 128, 128, 2)\n"
     ]
    }
   ],
   "source": [
    "#save image\n",
    "# saveMask_256(\"/home/yifanc3/results/v2_orig_mask\",test_mask_path,Y)\n",
    "if not os.path.isdir(result_path):\n",
    "    os.makedirs(result_path)\n",
    "saveResult(result_path,test_mask_path,results)"
   ]
  },
  {
   "cell_type": "code",
   "execution_count": null,
   "metadata": {},
   "outputs": [],
   "source": []
  },
  {
   "cell_type": "code",
   "execution_count": null,
   "metadata": {},
   "outputs": [],
   "source": []
  }
 ],
 "metadata": {
  "kernelspec": {
   "display_name": "Python 3",
   "language": "python",
   "name": "python3"
  },
  "language_info": {
   "codemirror_mode": {
    "name": "ipython",
    "version": 3
   },
   "file_extension": ".py",
   "mimetype": "text/x-python",
   "name": "python",
   "nbconvert_exporter": "python",
   "pygments_lexer": "ipython3",
   "version": "3.6.8"
  }
 },
 "nbformat": 4,
 "nbformat_minor": 2
}
